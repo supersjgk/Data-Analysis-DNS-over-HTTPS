{
  "nbformat": 4,
  "nbformat_minor": 0,
  "metadata": {
    "colab": {
      "name": "FirstLayer.ipynb",
      "provenance": [],
      "collapsed_sections": []
    },
    "kernelspec": {
      "name": "python3",
      "display_name": "Python 3"
    },
    "language_info": {
      "name": "python"
    }
  },
  "cells": [
    {
      "cell_type": "code",
      "metadata": {
        "colab": {
          "resources": {
            "http://localhost:8080/nbextensions/google.colab/files.js": {
              "data": "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",
              "ok": true,
              "headers": [
                [
                  "content-type",
                  "application/javascript"
                ]
              ],
              "status": 200,
              "status_text": ""
            }
          },
          "base_uri": "https://localhost:8080/",
          "height": 73
        },
        "id": "s6_AHjwYqtyd",
        "outputId": "489218e8-3baf-4e84-9358-e1dc1ec8a69a"
      },
      "source": [
        "#DATASET FOR CLASSIFYING INTO DOH AND NON-DOH TRAFFIC\n",
        "from google.colab import files\n",
        "uploaded = files.upload()"
      ],
      "execution_count": 1,
      "outputs": [
        {
          "output_type": "display_data",
          "data": {
            "text/html": [
              "\n",
              "     <input type=\"file\" id=\"files-33788eb1-9373-492c-93c5-16a52a5bca02\" name=\"files[]\" multiple disabled\n",
              "        style=\"border:none\" />\n",
              "     <output id=\"result-33788eb1-9373-492c-93c5-16a52a5bca02\">\n",
              "      Upload widget is only available when the cell has been executed in the\n",
              "      current browser session. Please rerun this cell to enable.\n",
              "      </output>\n",
              "      <script src=\"/nbextensions/google.colab/files.js\"></script> "
            ],
            "text/plain": [
              "<IPython.core.display.HTML object>"
            ]
          },
          "metadata": {}
        },
        {
          "output_type": "stream",
          "name": "stdout",
          "text": [
            "Saving merge_first_layer.csv to merge_first_layer.csv\n"
          ]
        }
      ]
    },
    {
      "cell_type": "code",
      "metadata": {
        "colab": {
          "base_uri": "https://localhost:8080/"
        },
        "id": "WKGcyZ-Ur4uE",
        "outputId": "c417ec05-2c12-46bb-fd49-834a028dc02d"
      },
      "source": [
        "import io\n",
        "import pandas as pd\n",
        "import numpy as np\n",
        "from mpl_toolkits.mplot3d import Axes3D\n",
        "from sklearn.preprocessing import StandardScaler\n",
        "import matplotlib.pyplot as plt\n",
        "d=pd.read_csv(io.BytesIO(uploaded['merge_first_layer.csv']))\n",
        "print(d.head(5))"
      ],
      "execution_count": 2,
      "outputs": [
        {
          "output_type": "stream",
          "name": "stdout",
          "text": [
            "         SourceIP   DestinationIP  ...  ResponseTimeTimeCoefficientofVariation   DoH\n",
            "0  192.168.20.205         1.1.1.1  ...                                3.696794  True\n",
            "1         1.1.1.1  192.168.20.205  ...                               11.584352  True\n",
            "2         1.1.1.1  192.168.20.205  ...                                1.667649  True\n",
            "3         1.1.1.1  192.168.20.205  ...                                7.495443  True\n",
            "4         1.1.1.1  192.168.20.205  ...                                4.263847  True\n",
            "\n",
            "[5 rows x 35 columns]\n"
          ]
        }
      ]
    },
    {
      "cell_type": "code",
      "metadata": {
        "colab": {
          "base_uri": "https://localhost:8080/",
          "height": 399
        },
        "id": "qn33FuoSumrO",
        "outputId": "cd9d3418-5675-4cd0-c8cd-20494beb1f02"
      },
      "source": [
        "d.head(5)"
      ],
      "execution_count": 3,
      "outputs": [
        {
          "output_type": "execute_result",
          "data": {
            "text/html": [
              "<div>\n",
              "<style scoped>\n",
              "    .dataframe tbody tr th:only-of-type {\n",
              "        vertical-align: middle;\n",
              "    }\n",
              "\n",
              "    .dataframe tbody tr th {\n",
              "        vertical-align: top;\n",
              "    }\n",
              "\n",
              "    .dataframe thead th {\n",
              "        text-align: right;\n",
              "    }\n",
              "</style>\n",
              "<table border=\"1\" class=\"dataframe\">\n",
              "  <thead>\n",
              "    <tr style=\"text-align: right;\">\n",
              "      <th></th>\n",
              "      <th>SourceIP</th>\n",
              "      <th>DestinationIP</th>\n",
              "      <th>SourcePort</th>\n",
              "      <th>DestinationPort</th>\n",
              "      <th>TimeStamp</th>\n",
              "      <th>Duration</th>\n",
              "      <th>FlowBytesSent</th>\n",
              "      <th>FlowSentRate</th>\n",
              "      <th>FlowBytesReceived</th>\n",
              "      <th>FlowReceivedRate</th>\n",
              "      <th>PacketLengthVariance</th>\n",
              "      <th>PacketLengthStandardDeviation</th>\n",
              "      <th>PacketLengthMean</th>\n",
              "      <th>PacketLengthMedian</th>\n",
              "      <th>PacketLengthMode</th>\n",
              "      <th>PacketLengthSkewFromMedian</th>\n",
              "      <th>PacketLengthSkewFromMode</th>\n",
              "      <th>PacketLengthCoefficientofVariation</th>\n",
              "      <th>PacketTimeVariance</th>\n",
              "      <th>PacketTimeStandardDeviation</th>\n",
              "      <th>PacketTimeMean</th>\n",
              "      <th>PacketTimeMedian</th>\n",
              "      <th>PacketTimeMode</th>\n",
              "      <th>PacketTimeSkewFromMedian</th>\n",
              "      <th>PacketTimeSkewFromMode</th>\n",
              "      <th>PacketTimeCoefficientofVariation</th>\n",
              "      <th>ResponseTimeTimeVariance</th>\n",
              "      <th>ResponseTimeTimeStandardDeviation</th>\n",
              "      <th>ResponseTimeTimeMean</th>\n",
              "      <th>ResponseTimeTimeMedian</th>\n",
              "      <th>ResponseTimeTimeMode</th>\n",
              "      <th>ResponseTimeTimeSkewFromMedian</th>\n",
              "      <th>ResponseTimeTimeSkewFromMode</th>\n",
              "      <th>ResponseTimeTimeCoefficientofVariation</th>\n",
              "      <th>DoH</th>\n",
              "    </tr>\n",
              "  </thead>\n",
              "  <tbody>\n",
              "    <tr>\n",
              "      <th>0</th>\n",
              "      <td>192.168.20.205</td>\n",
              "      <td>1.1.1.1</td>\n",
              "      <td>55268</td>\n",
              "      <td>443</td>\n",
              "      <td>2020-04-01 10:08:49</td>\n",
              "      <td>120.892863</td>\n",
              "      <td>39956</td>\n",
              "      <td>330.507517</td>\n",
              "      <td>70650</td>\n",
              "      <td>584.401744</td>\n",
              "      <td>12444.750192</td>\n",
              "      <td>111.556041</td>\n",
              "      <td>124.696731</td>\n",
              "      <td>87.0</td>\n",
              "      <td>87</td>\n",
              "      <td>1.013752</td>\n",
              "      <td>0.337917</td>\n",
              "      <td>0.894619</td>\n",
              "      <td>1006.354700</td>\n",
              "      <td>31.723094</td>\n",
              "      <td>64.038706</td>\n",
              "      <td>65.290486</td>\n",
              "      <td>0.0</td>\n",
              "      <td>-0.118379</td>\n",
              "      <td>2.018678</td>\n",
              "      <td>0.495374</td>\n",
              "      <td>4.355913e-01</td>\n",
              "      <td>0.659993</td>\n",
              "      <td>0.178531</td>\n",
              "      <td>0.002307</td>\n",
              "      <td>0.000011</td>\n",
              "      <td>0.801027</td>\n",
              "      <td>0.270488</td>\n",
              "      <td>3.696794</td>\n",
              "      <td>True</td>\n",
              "    </tr>\n",
              "    <tr>\n",
              "      <th>1</th>\n",
              "      <td>1.1.1.1</td>\n",
              "      <td>192.168.20.205</td>\n",
              "      <td>443</td>\n",
              "      <td>55268</td>\n",
              "      <td>2020-04-01 10:10:50</td>\n",
              "      <td>120.639963</td>\n",
              "      <td>79416</td>\n",
              "      <td>658.289327</td>\n",
              "      <td>46755</td>\n",
              "      <td>387.558143</td>\n",
              "      <td>8069.990051</td>\n",
              "      <td>89.833123</td>\n",
              "      <td>121.318269</td>\n",
              "      <td>87.0</td>\n",
              "      <td>87</td>\n",
              "      <td>1.146067</td>\n",
              "      <td>0.382022</td>\n",
              "      <td>0.740475</td>\n",
              "      <td>1207.867179</td>\n",
              "      <td>34.754384</td>\n",
              "      <td>56.606672</td>\n",
              "      <td>55.776013</td>\n",
              "      <td>0.0</td>\n",
              "      <td>0.071702</td>\n",
              "      <td>1.628764</td>\n",
              "      <td>0.613963</td>\n",
              "      <td>7.434583e-06</td>\n",
              "      <td>0.002727</td>\n",
              "      <td>0.000235</td>\n",
              "      <td>0.000031</td>\n",
              "      <td>0.000026</td>\n",
              "      <td>0.224312</td>\n",
              "      <td>0.076788</td>\n",
              "      <td>11.584352</td>\n",
              "      <td>True</td>\n",
              "    </tr>\n",
              "    <tr>\n",
              "      <th>2</th>\n",
              "      <td>1.1.1.1</td>\n",
              "      <td>192.168.20.205</td>\n",
              "      <td>443</td>\n",
              "      <td>55268</td>\n",
              "      <td>2020-04-01 10:12:51</td>\n",
              "      <td>120.690013</td>\n",
              "      <td>77836</td>\n",
              "      <td>644.924945</td>\n",
              "      <td>46200</td>\n",
              "      <td>382.798865</td>\n",
              "      <td>9645.935043</td>\n",
              "      <td>98.213721</td>\n",
              "      <td>123.173784</td>\n",
              "      <td>87.0</td>\n",
              "      <td>87</td>\n",
              "      <td>1.104951</td>\n",
              "      <td>0.368317</td>\n",
              "      <td>0.797359</td>\n",
              "      <td>1239.247254</td>\n",
              "      <td>35.202944</td>\n",
              "      <td>56.870347</td>\n",
              "      <td>55.783910</td>\n",
              "      <td>0.0</td>\n",
              "      <td>0.092586</td>\n",
              "      <td>1.615500</td>\n",
              "      <td>0.619003</td>\n",
              "      <td>4.627758e-09</td>\n",
              "      <td>0.000068</td>\n",
              "      <td>0.000041</td>\n",
              "      <td>0.000032</td>\n",
              "      <td>0.000020</td>\n",
              "      <td>0.387748</td>\n",
              "      <td>0.305648</td>\n",
              "      <td>1.667649</td>\n",
              "      <td>True</td>\n",
              "    </tr>\n",
              "    <tr>\n",
              "      <th>3</th>\n",
              "      <td>1.1.1.1</td>\n",
              "      <td>192.168.20.205</td>\n",
              "      <td>443</td>\n",
              "      <td>55268</td>\n",
              "      <td>2020-04-01 10:14:52</td>\n",
              "      <td>120.673598</td>\n",
              "      <td>78497</td>\n",
              "      <td>650.490259</td>\n",
              "      <td>46742</td>\n",
              "      <td>387.342391</td>\n",
              "      <td>13338.264242</td>\n",
              "      <td>115.491403</td>\n",
              "      <td>128.318648</td>\n",
              "      <td>87.0</td>\n",
              "      <td>87</td>\n",
              "      <td>1.073292</td>\n",
              "      <td>0.357764</td>\n",
              "      <td>0.900036</td>\n",
              "      <td>1229.896364</td>\n",
              "      <td>35.069878</td>\n",
              "      <td>57.463287</td>\n",
              "      <td>55.806157</td>\n",
              "      <td>0.0</td>\n",
              "      <td>0.141757</td>\n",
              "      <td>1.638537</td>\n",
              "      <td>0.610301</td>\n",
              "      <td>6.325814e-07</td>\n",
              "      <td>0.000795</td>\n",
              "      <td>0.000106</td>\n",
              "      <td>0.000038</td>\n",
              "      <td>0.000019</td>\n",
              "      <td>0.256910</td>\n",
              "      <td>0.109526</td>\n",
              "      <td>7.495443</td>\n",
              "      <td>True</td>\n",
              "    </tr>\n",
              "    <tr>\n",
              "      <th>4</th>\n",
              "      <td>1.1.1.1</td>\n",
              "      <td>192.168.20.205</td>\n",
              "      <td>443</td>\n",
              "      <td>55268</td>\n",
              "      <td>2020-04-01 10:16:52</td>\n",
              "      <td>120.681791</td>\n",
              "      <td>78652</td>\n",
              "      <td>651.730467</td>\n",
              "      <td>46294</td>\n",
              "      <td>383.603853</td>\n",
              "      <td>8396.058692</td>\n",
              "      <td>91.630010</td>\n",
              "      <td>121.779727</td>\n",
              "      <td>87.0</td>\n",
              "      <td>87</td>\n",
              "      <td>1.138701</td>\n",
              "      <td>0.379567</td>\n",
              "      <td>0.752424</td>\n",
              "      <td>1187.558994</td>\n",
              "      <td>34.460978</td>\n",
              "      <td>57.010015</td>\n",
              "      <td>55.808215</td>\n",
              "      <td>0.0</td>\n",
              "      <td>0.104623</td>\n",
              "      <td>1.654335</td>\n",
              "      <td>0.604472</td>\n",
              "      <td>9.639035e-08</td>\n",
              "      <td>0.000310</td>\n",
              "      <td>0.000073</td>\n",
              "      <td>0.000033</td>\n",
              "      <td>0.000021</td>\n",
              "      <td>0.384717</td>\n",
              "      <td>0.166890</td>\n",
              "      <td>4.263847</td>\n",
              "      <td>True</td>\n",
              "    </tr>\n",
              "  </tbody>\n",
              "</table>\n",
              "</div>"
            ],
            "text/plain": [
              "         SourceIP   DestinationIP  ...  ResponseTimeTimeCoefficientofVariation   DoH\n",
              "0  192.168.20.205         1.1.1.1  ...                                3.696794  True\n",
              "1         1.1.1.1  192.168.20.205  ...                               11.584352  True\n",
              "2         1.1.1.1  192.168.20.205  ...                                1.667649  True\n",
              "3         1.1.1.1  192.168.20.205  ...                                7.495443  True\n",
              "4         1.1.1.1  192.168.20.205  ...                                4.263847  True\n",
              "\n",
              "[5 rows x 35 columns]"
            ]
          },
          "metadata": {},
          "execution_count": 3
        }
      ]
    },
    {
      "cell_type": "code",
      "metadata": {
        "colab": {
          "base_uri": "https://localhost:8080/"
        },
        "id": "JwIPgJVguyBL",
        "outputId": "11d6ac54-8bdc-4198-e2ab-84bfd5daf4e1"
      },
      "source": [
        "d.dtypes"
      ],
      "execution_count": 4,
      "outputs": [
        {
          "output_type": "execute_result",
          "data": {
            "text/plain": [
              "SourceIP                                   object\n",
              "DestinationIP                              object\n",
              "SourcePort                                  int64\n",
              "DestinationPort                             int64\n",
              "TimeStamp                                  object\n",
              "Duration                                  float64\n",
              "FlowBytesSent                               int64\n",
              "FlowSentRate                              float64\n",
              "FlowBytesReceived                           int64\n",
              "FlowReceivedRate                          float64\n",
              "PacketLengthVariance                      float64\n",
              "PacketLengthStandardDeviation             float64\n",
              "PacketLengthMean                          float64\n",
              "PacketLengthMedian                        float64\n",
              "PacketLengthMode                            int64\n",
              "PacketLengthSkewFromMedian                float64\n",
              "PacketLengthSkewFromMode                  float64\n",
              "PacketLengthCoefficientofVariation        float64\n",
              "PacketTimeVariance                        float64\n",
              "PacketTimeStandardDeviation               float64\n",
              "PacketTimeMean                            float64\n",
              "PacketTimeMedian                          float64\n",
              "PacketTimeMode                            float64\n",
              "PacketTimeSkewFromMedian                  float64\n",
              "PacketTimeSkewFromMode                    float64\n",
              "PacketTimeCoefficientofVariation          float64\n",
              "ResponseTimeTimeVariance                  float64\n",
              "ResponseTimeTimeStandardDeviation         float64\n",
              "ResponseTimeTimeMean                      float64\n",
              "ResponseTimeTimeMedian                    float64\n",
              "ResponseTimeTimeMode                      float64\n",
              "ResponseTimeTimeSkewFromMedian            float64\n",
              "ResponseTimeTimeSkewFromMode              float64\n",
              "ResponseTimeTimeCoefficientofVariation    float64\n",
              "DoH                                          bool\n",
              "dtype: object"
            ]
          },
          "metadata": {},
          "execution_count": 4
        }
      ]
    },
    {
      "cell_type": "code",
      "metadata": {
        "colab": {
          "base_uri": "https://localhost:8080/"
        },
        "id": "WYkGx91eu2Z3",
        "outputId": "0427e79a-8697-4fec-b697-58f22e799f3b"
      },
      "source": [
        "d=d.dropna(axis=1, how='all')\n",
        "print(d.info())"
      ],
      "execution_count": 5,
      "outputs": [
        {
          "output_type": "stream",
          "name": "stdout",
          "text": [
            "<class 'pandas.core.frame.DataFrame'>\n",
            "RangeIndex: 49 entries, 0 to 48\n",
            "Data columns (total 35 columns):\n",
            " #   Column                                  Non-Null Count  Dtype  \n",
            "---  ------                                  --------------  -----  \n",
            " 0   SourceIP                                49 non-null     object \n",
            " 1   DestinationIP                           49 non-null     object \n",
            " 2   SourcePort                              49 non-null     int64  \n",
            " 3   DestinationPort                         49 non-null     int64  \n",
            " 4   TimeStamp                               49 non-null     object \n",
            " 5   Duration                                49 non-null     float64\n",
            " 6   FlowBytesSent                           49 non-null     int64  \n",
            " 7   FlowSentRate                            49 non-null     float64\n",
            " 8   FlowBytesReceived                       49 non-null     int64  \n",
            " 9   FlowReceivedRate                        49 non-null     float64\n",
            " 10  PacketLengthVariance                    49 non-null     float64\n",
            " 11  PacketLengthStandardDeviation           49 non-null     float64\n",
            " 12  PacketLengthMean                        49 non-null     float64\n",
            " 13  PacketLengthMedian                      49 non-null     float64\n",
            " 14  PacketLengthMode                        49 non-null     int64  \n",
            " 15  PacketLengthSkewFromMedian              49 non-null     float64\n",
            " 16  PacketLengthSkewFromMode                49 non-null     float64\n",
            " 17  PacketLengthCoefficientofVariation      49 non-null     float64\n",
            " 18  PacketTimeVariance                      49 non-null     float64\n",
            " 19  PacketTimeStandardDeviation             49 non-null     float64\n",
            " 20  PacketTimeMean                          49 non-null     float64\n",
            " 21  PacketTimeMedian                        49 non-null     float64\n",
            " 22  PacketTimeMode                          49 non-null     float64\n",
            " 23  PacketTimeSkewFromMedian                49 non-null     float64\n",
            " 24  PacketTimeSkewFromMode                  49 non-null     float64\n",
            " 25  PacketTimeCoefficientofVariation        49 non-null     float64\n",
            " 26  ResponseTimeTimeVariance                49 non-null     float64\n",
            " 27  ResponseTimeTimeStandardDeviation       49 non-null     float64\n",
            " 28  ResponseTimeTimeMean                    49 non-null     float64\n",
            " 29  ResponseTimeTimeMedian                  49 non-null     float64\n",
            " 30  ResponseTimeTimeMode                    49 non-null     float64\n",
            " 31  ResponseTimeTimeSkewFromMedian          49 non-null     float64\n",
            " 32  ResponseTimeTimeSkewFromMode            49 non-null     float64\n",
            " 33  ResponseTimeTimeCoefficientofVariation  49 non-null     float64\n",
            " 34  DoH                                     49 non-null     bool   \n",
            "dtypes: bool(1), float64(26), int64(5), object(3)\n",
            "memory usage: 13.2+ KB\n",
            "None\n"
          ]
        }
      ]
    },
    {
      "cell_type": "code",
      "metadata": {
        "colab": {
          "base_uri": "https://localhost:8080/",
          "height": 226
        },
        "id": "Nr6UWo5evVMf",
        "outputId": "5d8328fb-2f52-480e-b58e-d43ca24351c0"
      },
      "source": [
        "#NUMERICAL ENCODING\n",
        "d[\"SourceIP\"] = d[\"SourceIP\"].astype('category')\n",
        "d[\"SourceIP\"] = d[\"SourceIP\"].cat.codes\n",
        "d[\"DestinationIP\"] = d[\"DestinationIP\"].astype('category')\n",
        "d[\"DestinationIP\"] = d[\"DestinationIP\"].cat.codes\n",
        "d[\"TimeStamp\"] = d[\"TimeStamp\"].astype('category')\n",
        "d[\"TimeStamp\"] = d[\"TimeStamp\"].cat.codes\n",
        "d[\"DoH\"] = d[\"DoH\"].astype('category')\n",
        "d[\"DoH\"] = d[\"DoH\"].cat.codes\n",
        "d.head(5)"
      ],
      "execution_count": 6,
      "outputs": [
        {
          "output_type": "execute_result",
          "data": {
            "text/html": [
              "<div>\n",
              "<style scoped>\n",
              "    .dataframe tbody tr th:only-of-type {\n",
              "        vertical-align: middle;\n",
              "    }\n",
              "\n",
              "    .dataframe tbody tr th {\n",
              "        vertical-align: top;\n",
              "    }\n",
              "\n",
              "    .dataframe thead th {\n",
              "        text-align: right;\n",
              "    }\n",
              "</style>\n",
              "<table border=\"1\" class=\"dataframe\">\n",
              "  <thead>\n",
              "    <tr style=\"text-align: right;\">\n",
              "      <th></th>\n",
              "      <th>SourceIP</th>\n",
              "      <th>DestinationIP</th>\n",
              "      <th>SourcePort</th>\n",
              "      <th>DestinationPort</th>\n",
              "      <th>TimeStamp</th>\n",
              "      <th>Duration</th>\n",
              "      <th>FlowBytesSent</th>\n",
              "      <th>FlowSentRate</th>\n",
              "      <th>FlowBytesReceived</th>\n",
              "      <th>FlowReceivedRate</th>\n",
              "      <th>PacketLengthVariance</th>\n",
              "      <th>PacketLengthStandardDeviation</th>\n",
              "      <th>PacketLengthMean</th>\n",
              "      <th>PacketLengthMedian</th>\n",
              "      <th>PacketLengthMode</th>\n",
              "      <th>PacketLengthSkewFromMedian</th>\n",
              "      <th>PacketLengthSkewFromMode</th>\n",
              "      <th>PacketLengthCoefficientofVariation</th>\n",
              "      <th>PacketTimeVariance</th>\n",
              "      <th>PacketTimeStandardDeviation</th>\n",
              "      <th>PacketTimeMean</th>\n",
              "      <th>PacketTimeMedian</th>\n",
              "      <th>PacketTimeMode</th>\n",
              "      <th>PacketTimeSkewFromMedian</th>\n",
              "      <th>PacketTimeSkewFromMode</th>\n",
              "      <th>PacketTimeCoefficientofVariation</th>\n",
              "      <th>ResponseTimeTimeVariance</th>\n",
              "      <th>ResponseTimeTimeStandardDeviation</th>\n",
              "      <th>ResponseTimeTimeMean</th>\n",
              "      <th>ResponseTimeTimeMedian</th>\n",
              "      <th>ResponseTimeTimeMode</th>\n",
              "      <th>ResponseTimeTimeSkewFromMedian</th>\n",
              "      <th>ResponseTimeTimeSkewFromMode</th>\n",
              "      <th>ResponseTimeTimeCoefficientofVariation</th>\n",
              "      <th>DoH</th>\n",
              "    </tr>\n",
              "  </thead>\n",
              "  <tbody>\n",
              "    <tr>\n",
              "      <th>0</th>\n",
              "      <td>5</td>\n",
              "      <td>0</td>\n",
              "      <td>55268</td>\n",
              "      <td>443</td>\n",
              "      <td>23</td>\n",
              "      <td>120.892863</td>\n",
              "      <td>39956</td>\n",
              "      <td>330.507517</td>\n",
              "      <td>70650</td>\n",
              "      <td>584.401744</td>\n",
              "      <td>12444.750192</td>\n",
              "      <td>111.556041</td>\n",
              "      <td>124.696731</td>\n",
              "      <td>87.0</td>\n",
              "      <td>87</td>\n",
              "      <td>1.013752</td>\n",
              "      <td>0.337917</td>\n",
              "      <td>0.894619</td>\n",
              "      <td>1006.354700</td>\n",
              "      <td>31.723094</td>\n",
              "      <td>64.038706</td>\n",
              "      <td>65.290486</td>\n",
              "      <td>0.0</td>\n",
              "      <td>-0.118379</td>\n",
              "      <td>2.018678</td>\n",
              "      <td>0.495374</td>\n",
              "      <td>4.355913e-01</td>\n",
              "      <td>0.659993</td>\n",
              "      <td>0.178531</td>\n",
              "      <td>0.002307</td>\n",
              "      <td>0.000011</td>\n",
              "      <td>0.801027</td>\n",
              "      <td>0.270488</td>\n",
              "      <td>3.696794</td>\n",
              "      <td>1</td>\n",
              "    </tr>\n",
              "    <tr>\n",
              "      <th>1</th>\n",
              "      <td>0</td>\n",
              "      <td>11</td>\n",
              "      <td>443</td>\n",
              "      <td>55268</td>\n",
              "      <td>24</td>\n",
              "      <td>120.639963</td>\n",
              "      <td>79416</td>\n",
              "      <td>658.289327</td>\n",
              "      <td>46755</td>\n",
              "      <td>387.558143</td>\n",
              "      <td>8069.990051</td>\n",
              "      <td>89.833123</td>\n",
              "      <td>121.318269</td>\n",
              "      <td>87.0</td>\n",
              "      <td>87</td>\n",
              "      <td>1.146067</td>\n",
              "      <td>0.382022</td>\n",
              "      <td>0.740475</td>\n",
              "      <td>1207.867179</td>\n",
              "      <td>34.754384</td>\n",
              "      <td>56.606672</td>\n",
              "      <td>55.776013</td>\n",
              "      <td>0.0</td>\n",
              "      <td>0.071702</td>\n",
              "      <td>1.628764</td>\n",
              "      <td>0.613963</td>\n",
              "      <td>7.434583e-06</td>\n",
              "      <td>0.002727</td>\n",
              "      <td>0.000235</td>\n",
              "      <td>0.000031</td>\n",
              "      <td>0.000026</td>\n",
              "      <td>0.224312</td>\n",
              "      <td>0.076788</td>\n",
              "      <td>11.584352</td>\n",
              "      <td>1</td>\n",
              "    </tr>\n",
              "    <tr>\n",
              "      <th>2</th>\n",
              "      <td>0</td>\n",
              "      <td>11</td>\n",
              "      <td>443</td>\n",
              "      <td>55268</td>\n",
              "      <td>25</td>\n",
              "      <td>120.690013</td>\n",
              "      <td>77836</td>\n",
              "      <td>644.924945</td>\n",
              "      <td>46200</td>\n",
              "      <td>382.798865</td>\n",
              "      <td>9645.935043</td>\n",
              "      <td>98.213721</td>\n",
              "      <td>123.173784</td>\n",
              "      <td>87.0</td>\n",
              "      <td>87</td>\n",
              "      <td>1.104951</td>\n",
              "      <td>0.368317</td>\n",
              "      <td>0.797359</td>\n",
              "      <td>1239.247254</td>\n",
              "      <td>35.202944</td>\n",
              "      <td>56.870347</td>\n",
              "      <td>55.783910</td>\n",
              "      <td>0.0</td>\n",
              "      <td>0.092586</td>\n",
              "      <td>1.615500</td>\n",
              "      <td>0.619003</td>\n",
              "      <td>4.627758e-09</td>\n",
              "      <td>0.000068</td>\n",
              "      <td>0.000041</td>\n",
              "      <td>0.000032</td>\n",
              "      <td>0.000020</td>\n",
              "      <td>0.387748</td>\n",
              "      <td>0.305648</td>\n",
              "      <td>1.667649</td>\n",
              "      <td>1</td>\n",
              "    </tr>\n",
              "    <tr>\n",
              "      <th>3</th>\n",
              "      <td>0</td>\n",
              "      <td>11</td>\n",
              "      <td>443</td>\n",
              "      <td>55268</td>\n",
              "      <td>26</td>\n",
              "      <td>120.673598</td>\n",
              "      <td>78497</td>\n",
              "      <td>650.490259</td>\n",
              "      <td>46742</td>\n",
              "      <td>387.342391</td>\n",
              "      <td>13338.264242</td>\n",
              "      <td>115.491403</td>\n",
              "      <td>128.318648</td>\n",
              "      <td>87.0</td>\n",
              "      <td>87</td>\n",
              "      <td>1.073292</td>\n",
              "      <td>0.357764</td>\n",
              "      <td>0.900036</td>\n",
              "      <td>1229.896364</td>\n",
              "      <td>35.069878</td>\n",
              "      <td>57.463287</td>\n",
              "      <td>55.806157</td>\n",
              "      <td>0.0</td>\n",
              "      <td>0.141757</td>\n",
              "      <td>1.638537</td>\n",
              "      <td>0.610301</td>\n",
              "      <td>6.325814e-07</td>\n",
              "      <td>0.000795</td>\n",
              "      <td>0.000106</td>\n",
              "      <td>0.000038</td>\n",
              "      <td>0.000019</td>\n",
              "      <td>0.256910</td>\n",
              "      <td>0.109526</td>\n",
              "      <td>7.495443</td>\n",
              "      <td>1</td>\n",
              "    </tr>\n",
              "    <tr>\n",
              "      <th>4</th>\n",
              "      <td>0</td>\n",
              "      <td>11</td>\n",
              "      <td>443</td>\n",
              "      <td>55268</td>\n",
              "      <td>27</td>\n",
              "      <td>120.681791</td>\n",
              "      <td>78652</td>\n",
              "      <td>651.730467</td>\n",
              "      <td>46294</td>\n",
              "      <td>383.603853</td>\n",
              "      <td>8396.058692</td>\n",
              "      <td>91.630010</td>\n",
              "      <td>121.779727</td>\n",
              "      <td>87.0</td>\n",
              "      <td>87</td>\n",
              "      <td>1.138701</td>\n",
              "      <td>0.379567</td>\n",
              "      <td>0.752424</td>\n",
              "      <td>1187.558994</td>\n",
              "      <td>34.460978</td>\n",
              "      <td>57.010015</td>\n",
              "      <td>55.808215</td>\n",
              "      <td>0.0</td>\n",
              "      <td>0.104623</td>\n",
              "      <td>1.654335</td>\n",
              "      <td>0.604472</td>\n",
              "      <td>9.639035e-08</td>\n",
              "      <td>0.000310</td>\n",
              "      <td>0.000073</td>\n",
              "      <td>0.000033</td>\n",
              "      <td>0.000021</td>\n",
              "      <td>0.384717</td>\n",
              "      <td>0.166890</td>\n",
              "      <td>4.263847</td>\n",
              "      <td>1</td>\n",
              "    </tr>\n",
              "  </tbody>\n",
              "</table>\n",
              "</div>"
            ],
            "text/plain": [
              "   SourceIP  DestinationIP  ...  ResponseTimeTimeCoefficientofVariation  DoH\n",
              "0         5              0  ...                                3.696794    1\n",
              "1         0             11  ...                               11.584352    1\n",
              "2         0             11  ...                                1.667649    1\n",
              "3         0             11  ...                                7.495443    1\n",
              "4         0             11  ...                                4.263847    1\n",
              "\n",
              "[5 rows x 35 columns]"
            ]
          },
          "metadata": {},
          "execution_count": 6
        }
      ]
    },
    {
      "cell_type": "code",
      "metadata": {
        "colab": {
          "base_uri": "https://localhost:8080/"
        },
        "id": "Ielevdrbvaon",
        "outputId": "e0426546-5d90-4042-dc35-3c78327b529e"
      },
      "source": [
        "#SPLITTING DATASET INTO INDEPENDENT AND DEPENDENT VARIABLES\n",
        "np.set_printoptions(suppress=True)\n",
        "X=d.iloc[:,:-1].values\n",
        "Y=d.iloc[:,-1].values\n",
        "\n",
        "#SPLITTING DATASET INTO TRAINING AND TESTING DATA\n",
        "from sklearn.model_selection import train_test_split\n",
        "X_train, X_test, y_train, y_test =train_test_split(X,Y,test_size=0.3)\n",
        "X_test[0]"
      ],
      "execution_count": 7,
      "outputs": [
        {
          "output_type": "execute_result",
          "data": {
            "text/plain": [
              "array([      2.        ,      19.        ,   53154.        ,\n",
              "           443.        ,       1.        ,       0.803995  ,\n",
              "          2574.        ,    3201.51244722,   20438.        ,\n",
              "         25420.55609799, 1182660.16161616,    1087.50179844,\n",
              "           697.33333333,      78.        ,      66.        ,\n",
              "             1.70850292,       0.58053544,       1.55951501,\n",
              "             0.04479052,       0.21163771,       0.27466933,\n",
              "             0.255459  ,       0.        ,       0.2723097 ,\n",
              "             1.29782795,       0.77051816,       0.00019841,\n",
              "             0.01408584,       0.0184715 ,       0.0268385 ,\n",
              "             0.001771  ,      -1.78200176,       1.1856229 ,\n",
              "             0.76257178])"
            ]
          },
          "metadata": {},
          "execution_count": 7
        }
      ]
    },
    {
      "cell_type": "code",
      "metadata": {
        "id": "q8WsgwCMvkSf"
      },
      "source": [
        "d = d.fillna(d.mean())"
      ],
      "execution_count": 8,
      "outputs": []
    },
    {
      "cell_type": "code",
      "metadata": {
        "id": "SFfycsUTEWFx"
      },
      "source": [
        "ACCURACY_SCORE={}"
      ],
      "execution_count": 9,
      "outputs": []
    },
    {
      "cell_type": "code",
      "metadata": {
        "colab": {
          "base_uri": "https://localhost:8080/"
        },
        "id": "R7uryB5ZIUr7",
        "outputId": "20476c7b-9b96-4864-e9d1-65b16315a8ce"
      },
      "source": [
        "#Information gain \n",
        "from sklearn.tree import DecisionTreeClassifier\n",
        "clf_gini=DecisionTreeClassifier(criterion=\"entropy\")\n",
        "y_pred_IG=clf_gini.fit(X_train,y_train).predict(X_test)\n",
        "print(y_pred_IG)"
      ],
      "execution_count": 10,
      "outputs": [
        {
          "output_type": "stream",
          "name": "stdout",
          "text": [
            "[0 1 0 1 1 0 0 1 1 1 0 0 1 1 1]\n"
          ]
        }
      ]
    },
    {
      "cell_type": "code",
      "metadata": {
        "colab": {
          "base_uri": "https://localhost:8080/"
        },
        "id": "se-O84vrNtj4",
        "outputId": "b062b960-d10a-420a-8e27-c18f98c3aeb7"
      },
      "source": [
        "from sklearn.metrics import confusion_matrix\n",
        "from sklearn.metrics import accuracy_score\n",
        "from sklearn.metrics import classification_report\n",
        "print(confusion_matrix(y_test,y_pred_IG))\n",
        "print(accuracy_score(y_test,y_pred_IG)*100)\n",
        "print(classification_report(y_test,y_pred_IG))"
      ],
      "execution_count": 11,
      "outputs": [
        {
          "output_type": "stream",
          "name": "stdout",
          "text": [
            "[[6 1]\n",
            " [0 8]]\n",
            "93.33333333333333\n",
            "              precision    recall  f1-score   support\n",
            "\n",
            "           0       1.00      0.86      0.92         7\n",
            "           1       0.89      1.00      0.94         8\n",
            "\n",
            "    accuracy                           0.93        15\n",
            "   macro avg       0.94      0.93      0.93        15\n",
            "weighted avg       0.94      0.93      0.93        15\n",
            "\n"
          ]
        }
      ]
    },
    {
      "cell_type": "code",
      "metadata": {
        "id": "wPU91IGgN7sV"
      },
      "source": [
        "ACCURACY_SCORE['INFORMATION GAIN']=accuracy_score(y_test,y_pred_IG)*100"
      ],
      "execution_count": 12,
      "outputs": []
    },
    {
      "cell_type": "code",
      "metadata": {
        "colab": {
          "base_uri": "https://localhost:8080/"
        },
        "id": "wKVOqFidIW35",
        "outputId": "d2868fd5-5c31-41cd-a7b2-3116f6375fb3"
      },
      "source": [
        "#GINI INDEX\n",
        "from sklearn.tree import DecisionTreeClassifier\n",
        "clf_gini=DecisionTreeClassifier(criterion=\"gini\")\n",
        "y_pred_GINI=clf_gini.fit(X_train,y_train).predict(X_test)\n",
        "print(y_pred_GINI)"
      ],
      "execution_count": 13,
      "outputs": [
        {
          "output_type": "stream",
          "name": "stdout",
          "text": [
            "[0 1 0 1 1 0 0 1 1 0 0 0 1 1 1]\n"
          ]
        }
      ]
    },
    {
      "cell_type": "code",
      "metadata": {
        "colab": {
          "base_uri": "https://localhost:8080/"
        },
        "id": "471Eq0bXI7qD",
        "outputId": "63097a8a-51a3-4f58-e2d8-784fa25547b4"
      },
      "source": [
        "print(confusion_matrix(y_test,y_pred_GINI))\n",
        "print(accuracy_score(y_test,y_pred_GINI)*100)\n",
        "print(classification_report(y_test,y_pred_GINI))"
      ],
      "execution_count": 14,
      "outputs": [
        {
          "output_type": "stream",
          "name": "stdout",
          "text": [
            "[[6 1]\n",
            " [1 7]]\n",
            "86.66666666666667\n",
            "              precision    recall  f1-score   support\n",
            "\n",
            "           0       0.86      0.86      0.86         7\n",
            "           1       0.88      0.88      0.88         8\n",
            "\n",
            "    accuracy                           0.87        15\n",
            "   macro avg       0.87      0.87      0.87        15\n",
            "weighted avg       0.87      0.87      0.87        15\n",
            "\n"
          ]
        }
      ]
    },
    {
      "cell_type": "code",
      "metadata": {
        "colab": {
          "base_uri": "https://localhost:8080/",
          "height": 369
        },
        "id": "G6LTOsqUJuc3",
        "outputId": "e9d5621e-46a9-4ebb-fbdf-aaeea7d160b6"
      },
      "source": [
        "from sklearn import tree\n",
        "tr=tree.DecisionTreeClassifier()\n",
        "tr.fit(X,Y)\n",
        "tree.plot_tree(tr)"
      ],
      "execution_count": 15,
      "outputs": [
        {
          "output_type": "execute_result",
          "data": {
            "text/plain": [
              "[Text(200.88000000000002, 190.26, 'X[20] <= 10.382\\ngini = 0.483\\nsamples = 49\\nvalue = [20, 29]'),\n",
              " Text(133.92000000000002, 135.9, 'X[1] <= 17.5\\ngini = 0.165\\nsamples = 22\\nvalue = [20, 2]'),\n",
              " Text(66.96000000000001, 81.53999999999999, 'gini = 0.0\\nsamples = 19\\nvalue = [19, 0]'),\n",
              " Text(200.88000000000002, 81.53999999999999, 'X[26] <= 0.0\\ngini = 0.444\\nsamples = 3\\nvalue = [1, 2]'),\n",
              " Text(133.92000000000002, 27.180000000000007, 'gini = 0.0\\nsamples = 2\\nvalue = [0, 2]'),\n",
              " Text(267.84000000000003, 27.180000000000007, 'gini = 0.0\\nsamples = 1\\nvalue = [1, 0]'),\n",
              " Text(267.84000000000003, 135.9, 'gini = 0.0\\nsamples = 27\\nvalue = [0, 27]')]"
            ]
          },
          "metadata": {},
          "execution_count": 15
        },
        {
          "output_type": "display_data",
          "data": {
            "image/png": "[encoded data removed]",
            "text/plain": [
              "<Figure size 432x288 with 1 Axes>"
            ]
          },
          "metadata": {
            "needs_background": "light"
          }
        }
      ]
    },
    {
      "cell_type": "code",
      "metadata": {
        "id": "nZbITElNJJRA"
      },
      "source": [
        "ACCURACY_SCORE['GINI INDEX']=accuracy_score(y_test,y_pred_GINI)*100"
      ],
      "execution_count": 16,
      "outputs": []
    },
    {
      "cell_type": "code",
      "metadata": {
        "colab": {
          "base_uri": "https://localhost:8080/"
        },
        "id": "oqnO6iNQvpiJ",
        "outputId": "9f41bf2c-fb82-4418-8686-4900a38c163b"
      },
      "source": [
        "#RANDOM FOREST CLASSIFIER\n",
        "from sklearn.ensemble import RandomForestClassifier\n",
        "clf=RandomForestClassifier(n_estimators=5)\n",
        "clf.fit(X_train,y_train)\n",
        "y_pred_RF=clf.predict(X_test)\n",
        "print(y_pred_RF)"
      ],
      "execution_count": 17,
      "outputs": [
        {
          "output_type": "stream",
          "name": "stdout",
          "text": [
            "[0 1 0 1 1 0 0 1 0 1 0 0 1 1 1]\n"
          ]
        }
      ]
    },
    {
      "cell_type": "code",
      "metadata": {
        "colab": {
          "base_uri": "https://localhost:8080/"
        },
        "id": "vH-EEGm5BOo2",
        "outputId": "54132e0e-890d-4dde-8993-f5c59ce9f116"
      },
      "source": [
        "y_pred_cat=[]\n",
        "for x in y_pred_RF:\n",
        "  if x==1:\n",
        "    y_pred_cat.append(\"True\")\n",
        "  else :\n",
        "    y_pred_cat.append(\"False\")\n",
        "y_pred_cat"
      ],
      "execution_count": 18,
      "outputs": [
        {
          "output_type": "execute_result",
          "data": {
            "text/plain": [
              "['False',\n",
              " 'True',\n",
              " 'False',\n",
              " 'True',\n",
              " 'True',\n",
              " 'False',\n",
              " 'False',\n",
              " 'True',\n",
              " 'False',\n",
              " 'True',\n",
              " 'False',\n",
              " 'False',\n",
              " 'True',\n",
              " 'True',\n",
              " 'True']"
            ]
          },
          "metadata": {},
          "execution_count": 18
        }
      ]
    },
    {
      "cell_type": "code",
      "metadata": {
        "colab": {
          "base_uri": "https://localhost:8080/"
        },
        "id": "GFPIF6ez1ExL",
        "outputId": "0f338669-44fc-422b-f16f-55a6280b20f3"
      },
      "source": [
        "print(confusion_matrix(y_test,y_pred_RF))\n",
        "print(accuracy_score(y_test,y_pred_RF)*100)\n",
        "print(classification_report(y_test,y_pred_RF))"
      ],
      "execution_count": 19,
      "outputs": [
        {
          "output_type": "stream",
          "name": "stdout",
          "text": [
            "[[7 0]\n",
            " [0 8]]\n",
            "100.0\n",
            "              precision    recall  f1-score   support\n",
            "\n",
            "           0       1.00      1.00      1.00         7\n",
            "           1       1.00      1.00      1.00         8\n",
            "\n",
            "    accuracy                           1.00        15\n",
            "   macro avg       1.00      1.00      1.00        15\n",
            "weighted avg       1.00      1.00      1.00        15\n",
            "\n"
          ]
        }
      ]
    },
    {
      "cell_type": "code",
      "metadata": {
        "id": "xKnmnE7mFVnF"
      },
      "source": [
        "ACCURACY_SCORE['Random Forest']=accuracy_score(y_test,y_pred_RF)*100"
      ],
      "execution_count": 20,
      "outputs": []
    },
    {
      "cell_type": "code",
      "metadata": {
        "colab": {
          "base_uri": "https://localhost:8080/"
        },
        "id": "gBzdFG-VCFc1",
        "outputId": "3c6d9f63-2fc1-4e98-fda0-65b4b3b6c8cb"
      },
      "source": [
        "#NAIVE BAYES\n",
        "from sklearn.naive_bayes import GaussianNB\n",
        "gnb=GaussianNB()\n",
        "y_pred_NB=gnb.fit(X_train,y_train).predict(X_test)\n",
        "print(y_pred_NB)"
      ],
      "execution_count": 21,
      "outputs": [
        {
          "output_type": "stream",
          "name": "stdout",
          "text": [
            "[0 1 0 1 1 0 0 1 1 1 0 0 1 1 1]\n"
          ]
        }
      ]
    },
    {
      "cell_type": "code",
      "metadata": {
        "colab": {
          "base_uri": "https://localhost:8080/"
        },
        "id": "qpaPp8pbDIrp",
        "outputId": "8106f821-3e42-45d4-9cb6-568ff5fdd48e"
      },
      "source": [
        "print(confusion_matrix(y_test,y_pred_NB))\n",
        "print(accuracy_score(y_test,y_pred_NB)*100)\n",
        "print(classification_report(y_test,y_pred_NB))"
      ],
      "execution_count": 22,
      "outputs": [
        {
          "output_type": "stream",
          "name": "stdout",
          "text": [
            "[[6 1]\n",
            " [0 8]]\n",
            "93.33333333333333\n",
            "              precision    recall  f1-score   support\n",
            "\n",
            "           0       1.00      0.86      0.92         7\n",
            "           1       0.89      1.00      0.94         8\n",
            "\n",
            "    accuracy                           0.93        15\n",
            "   macro avg       0.94      0.93      0.93        15\n",
            "weighted avg       0.94      0.93      0.93        15\n",
            "\n"
          ]
        }
      ]
    },
    {
      "cell_type": "code",
      "metadata": {
        "id": "U6IakMOTFcge"
      },
      "source": [
        "ACCURACY_SCORE['Naive bayes']=accuracy_score(y_test,y_pred_NB)*100"
      ],
      "execution_count": 23,
      "outputs": []
    },
    {
      "cell_type": "code",
      "metadata": {
        "colab": {
          "base_uri": "https://localhost:8080/"
        },
        "id": "utHGywBwFgTp",
        "outputId": "b03ba55e-963e-4406-bfb6-16f0c3096fa5"
      },
      "source": [
        "#KNN\n",
        "from sklearn.neighbors import KNeighborsClassifier\n",
        "knn =KNeighborsClassifier(n_neighbors=7)\n",
        "y_pred_KNN=knn.fit(X_train,y_train).predict(X_test)\n",
        "print(y_pred_KNN)"
      ],
      "execution_count": 24,
      "outputs": [
        {
          "output_type": "stream",
          "name": "stdout",
          "text": [
            "[0 1 0 1 1 0 0 1 1 1 0 0 1 1 1]\n"
          ]
        }
      ]
    },
    {
      "cell_type": "code",
      "metadata": {
        "colab": {
          "base_uri": "https://localhost:8080/"
        },
        "id": "UhqJfw9HGI2o",
        "outputId": "e04d0936-c079-44cc-ec06-4f82ade584f9"
      },
      "source": [
        "print(confusion_matrix(y_test,y_pred_KNN))\n",
        "print(accuracy_score(y_test,y_pred_KNN)*100)\n",
        "print(classification_report(y_test,y_pred_KNN))"
      ],
      "execution_count": 25,
      "outputs": [
        {
          "output_type": "stream",
          "name": "stdout",
          "text": [
            "[[6 1]\n",
            " [0 8]]\n",
            "93.33333333333333\n",
            "              precision    recall  f1-score   support\n",
            "\n",
            "           0       1.00      0.86      0.92         7\n",
            "           1       0.89      1.00      0.94         8\n",
            "\n",
            "    accuracy                           0.93        15\n",
            "   macro avg       0.94      0.93      0.93        15\n",
            "weighted avg       0.94      0.93      0.93        15\n",
            "\n"
          ]
        }
      ]
    },
    {
      "cell_type": "code",
      "metadata": {
        "id": "JhYhRHVZGO7n"
      },
      "source": [
        "ACCURACY_SCORE['KNN']=accuracy_score(y_test,y_pred_KNN)*100"
      ],
      "execution_count": 26,
      "outputs": []
    },
    {
      "cell_type": "code",
      "metadata": {
        "colab": {
          "base_uri": "https://localhost:8080/"
        },
        "id": "VdRhLVp1GgYM",
        "outputId": "12449b9b-a0f7-41de-a6f9-ccd1fc8e9d4d"
      },
      "source": [
        "#GRADIENT BOOST\n",
        "from sklearn.ensemble import GradientBoostingClassifier\n",
        "lr_rate= 0.5\n",
        "gb_clf = GradientBoostingClassifier(n_estimators=20, learning_rate=lr_rate, random_state=0)\n",
        "gb_clf.fit(X_train, y_train)\n",
        "y_pred_GB=gb_clf.predict(X_test)\n",
        "print(y_pred_GB)"
      ],
      "execution_count": 27,
      "outputs": [
        {
          "output_type": "stream",
          "name": "stdout",
          "text": [
            "[0 1 0 1 1 0 0 1 1 1 0 0 1 1 1]\n"
          ]
        }
      ]
    },
    {
      "cell_type": "code",
      "metadata": {
        "colab": {
          "base_uri": "https://localhost:8080/"
        },
        "id": "MQngJG87P1fZ",
        "outputId": "86ef15fb-2220-480c-a779-77cbfd816862"
      },
      "source": [
        "print(confusion_matrix(y_test,y_pred_GB))\n",
        "print(accuracy_score(y_test,y_pred_GB)*100)\n",
        "print(classification_report(y_test,y_pred_GB))"
      ],
      "execution_count": 28,
      "outputs": [
        {
          "output_type": "stream",
          "name": "stdout",
          "text": [
            "[[6 1]\n",
            " [0 8]]\n",
            "93.33333333333333\n",
            "              precision    recall  f1-score   support\n",
            "\n",
            "           0       1.00      0.86      0.92         7\n",
            "           1       0.89      1.00      0.94         8\n",
            "\n",
            "    accuracy                           0.93        15\n",
            "   macro avg       0.94      0.93      0.93        15\n",
            "weighted avg       0.94      0.93      0.93        15\n",
            "\n"
          ]
        }
      ]
    },
    {
      "cell_type": "code",
      "metadata": {
        "colab": {
          "base_uri": "https://localhost:8080/"
        },
        "id": "eudKV-o9SGx_",
        "outputId": "0cc75112-2061-4287-991a-086b53d7d397"
      },
      "source": [
        "ACCURACY_SCORE['GRADIENT BOOST']=accuracy_score(y_test,y_pred_GB)*100\n",
        "print(ACCURACY_SCORE)"
      ],
      "execution_count": 29,
      "outputs": [
        {
          "output_type": "stream",
          "name": "stdout",
          "text": [
            "{'INFORMATION GAIN': 93.33333333333333, 'GINI INDEX': 86.66666666666667, 'Random Forest': 100.0, 'Naive bayes': 93.33333333333333, 'KNN': 93.33333333333333, 'GRADIENT BOOST': 93.33333333333333}\n"
          ]
        }
      ]
    }
  ]
}