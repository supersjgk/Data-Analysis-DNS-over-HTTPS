{
  "nbformat": 4,
  "nbformat_minor": 0,
  "metadata": {
    "colab": {
      "name": "SecondLayer.ipynb",
      "provenance": [],
      "collapsed_sections": []
    },
    "kernelspec": {
      "name": "python3",
      "display_name": "Python 3"
    },
    "language_info": {
      "name": "python"
    }
  },
  "cells": [
    {
      "cell_type": "code",
      "metadata": {
        "colab": {
          "resources": {
            "http://localhost:8080/nbextensions/google.colab/files.js": {
              "data": "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",
              "ok": true,
              "headers": [
                [
                  "content-type",
                  "application/javascript"
                ]
              ],
              "status": 200,
              "status_text": ""
            }
          },
          "base_uri": "https://localhost:8080/",
          "height": 73
        },
        "id": "KeGVOUZW7r_a",
        "outputId": "0724ba35-963b-4772-efd2-acd9b409091d"
      },
      "source": [
        "#DATASET FOR CLASSIFYING INTO BENIGN AND MALICIOUS TRAFFIC\n",
        "from google.colab import files\n",
        "uploaded = files.upload()"
      ],
      "execution_count": 1,
      "outputs": [
        {
          "output_type": "display_data",
          "data": {
            "text/html": [
              "\n",
              "     <input type=\"file\" id=\"files-4a460d57-e6da-4a6b-9da5-691839d326eb\" name=\"files[]\" multiple disabled\n",
              "        style=\"border:none\" />\n",
              "     <output id=\"result-4a460d57-e6da-4a6b-9da5-691839d326eb\">\n",
              "      Upload widget is only available when the cell has been executed in the\n",
              "      current browser session. Please rerun this cell to enable.\n",
              "      </output>\n",
              "      <script src=\"/nbextensions/google.colab/files.js\"></script> "
            ],
            "text/plain": [
              "<IPython.core.display.HTML object>"
            ]
          },
          "metadata": {}
        },
        {
          "output_type": "stream",
          "name": "stdout",
          "text": [
            "Saving merge_second_layer.csv to merge_second_layer.csv\n"
          ]
        }
      ]
    },
    {
      "cell_type": "code",
      "metadata": {
        "colab": {
          "base_uri": "https://localhost:8080/",
          "height": 399
        },
        "id": "07f72hKP9IJ3",
        "outputId": "fccca813-4306-4c60-f3ed-58082bbf22eb"
      },
      "source": [
        "import io\n",
        "import pandas as pd\n",
        "import numpy as np\n",
        "from mpl_toolkits.mplot3d import Axes3D\n",
        "from sklearn.preprocessing import StandardScaler\n",
        "import matplotlib.pyplot as plt\n",
        "d=pd.read_csv(io.BytesIO(uploaded['merge_second_layer.csv']))\n",
        "d.head(5)"
      ],
      "execution_count": 2,
      "outputs": [
        {
          "output_type": "execute_result",
          "data": {
            "text/html": [
              "<div>\n",
              "<style scoped>\n",
              "    .dataframe tbody tr th:only-of-type {\n",
              "        vertical-align: middle;\n",
              "    }\n",
              "\n",
              "    .dataframe tbody tr th {\n",
              "        vertical-align: top;\n",
              "    }\n",
              "\n",
              "    .dataframe thead th {\n",
              "        text-align: right;\n",
              "    }\n",
              "</style>\n",
              "<table border=\"1\" class=\"dataframe\">\n",
              "  <thead>\n",
              "    <tr style=\"text-align: right;\">\n",
              "      <th></th>\n",
              "      <th>SourceIP</th>\n",
              "      <th>DestinationIP</th>\n",
              "      <th>SourcePort</th>\n",
              "      <th>DestinationPort</th>\n",
              "      <th>TimeStamp</th>\n",
              "      <th>Duration</th>\n",
              "      <th>FlowBytesSent</th>\n",
              "      <th>FlowSentRate</th>\n",
              "      <th>FlowBytesReceived</th>\n",
              "      <th>FlowReceivedRate</th>\n",
              "      <th>PacketLengthVariance</th>\n",
              "      <th>PacketLengthStandardDeviation</th>\n",
              "      <th>PacketLengthMean</th>\n",
              "      <th>PacketLengthMedian</th>\n",
              "      <th>PacketLengthMode</th>\n",
              "      <th>PacketLengthSkewFromMedian</th>\n",
              "      <th>PacketLengthSkewFromMode</th>\n",
              "      <th>PacketLengthCoefficientofVariation</th>\n",
              "      <th>PacketTimeVariance</th>\n",
              "      <th>PacketTimeStandardDeviation</th>\n",
              "      <th>PacketTimeMean</th>\n",
              "      <th>PacketTimeMedian</th>\n",
              "      <th>PacketTimeMode</th>\n",
              "      <th>PacketTimeSkewFromMedian</th>\n",
              "      <th>PacketTimeSkewFromMode</th>\n",
              "      <th>PacketTimeCoefficientofVariation</th>\n",
              "      <th>ResponseTimeTimeVariance</th>\n",
              "      <th>ResponseTimeTimeStandardDeviation</th>\n",
              "      <th>ResponseTimeTimeMean</th>\n",
              "      <th>ResponseTimeTimeMedian</th>\n",
              "      <th>ResponseTimeTimeMode</th>\n",
              "      <th>ResponseTimeTimeSkewFromMedian</th>\n",
              "      <th>ResponseTimeTimeSkewFromMode</th>\n",
              "      <th>ResponseTimeTimeCoefficientofVariation</th>\n",
              "      <th>Label</th>\n",
              "    </tr>\n",
              "  </thead>\n",
              "  <tbody>\n",
              "    <tr>\n",
              "      <th>0</th>\n",
              "      <td>192.168.20.191</td>\n",
              "      <td>176.103.130.131</td>\n",
              "      <td>50749</td>\n",
              "      <td>443</td>\n",
              "      <td>14-01-2020 15:49</td>\n",
              "      <td>95.081550</td>\n",
              "      <td>62311</td>\n",
              "      <td>655.342703</td>\n",
              "      <td>65358</td>\n",
              "      <td>687.388878</td>\n",
              "      <td>7474.676771</td>\n",
              "      <td>86.456213</td>\n",
              "      <td>135.673751</td>\n",
              "      <td>102.0</td>\n",
              "      <td>54</td>\n",
              "      <td>1.168467</td>\n",
              "      <td>0.944683</td>\n",
              "      <td>0.637236</td>\n",
              "      <td>670.585814</td>\n",
              "      <td>25.895672</td>\n",
              "      <td>45.065277</td>\n",
              "      <td>48.811292</td>\n",
              "      <td>1.495060</td>\n",
              "      <td>-0.433974</td>\n",
              "      <td>1.682529</td>\n",
              "      <td>0.574626</td>\n",
              "      <td>0.001053</td>\n",
              "      <td>0.032457</td>\n",
              "      <td>0.027624</td>\n",
              "      <td>0.026854</td>\n",
              "      <td>0.026822</td>\n",
              "      <td>0.071187</td>\n",
              "      <td>0.024715</td>\n",
              "      <td>1.174948</td>\n",
              "      <td>Benign</td>\n",
              "    </tr>\n",
              "    <tr>\n",
              "      <th>1</th>\n",
              "      <td>192.168.20.191</td>\n",
              "      <td>176.103.130.131</td>\n",
              "      <td>50749</td>\n",
              "      <td>443</td>\n",
              "      <td>14-01-2020 15:50</td>\n",
              "      <td>122.309318</td>\n",
              "      <td>93828</td>\n",
              "      <td>767.136973</td>\n",
              "      <td>101232</td>\n",
              "      <td>827.672018</td>\n",
              "      <td>10458.118600</td>\n",
              "      <td>102.264943</td>\n",
              "      <td>141.245474</td>\n",
              "      <td>114.0</td>\n",
              "      <td>54</td>\n",
              "      <td>0.799261</td>\n",
              "      <td>0.853132</td>\n",
              "      <td>0.724023</td>\n",
              "      <td>708.465878</td>\n",
              "      <td>26.617022</td>\n",
              "      <td>52.287903</td>\n",
              "      <td>48.830314</td>\n",
              "      <td>31.719656</td>\n",
              "      <td>0.389704</td>\n",
              "      <td>0.772748</td>\n",
              "      <td>0.509047</td>\n",
              "      <td>0.001170</td>\n",
              "      <td>0.034200</td>\n",
              "      <td>0.024387</td>\n",
              "      <td>0.021043</td>\n",
              "      <td>0.026981</td>\n",
              "      <td>0.293297</td>\n",
              "      <td>-0.075845</td>\n",
              "      <td>1.402382</td>\n",
              "      <td>Benign</td>\n",
              "    </tr>\n",
              "    <tr>\n",
              "      <th>2</th>\n",
              "      <td>192.168.20.191</td>\n",
              "      <td>176.103.130.131</td>\n",
              "      <td>50749</td>\n",
              "      <td>443</td>\n",
              "      <td>14-01-2020 15:52</td>\n",
              "      <td>120.958413</td>\n",
              "      <td>38784</td>\n",
              "      <td>320.639127</td>\n",
              "      <td>38236</td>\n",
              "      <td>316.108645</td>\n",
              "      <td>7300.293933</td>\n",
              "      <td>85.441758</td>\n",
              "      <td>133.715278</td>\n",
              "      <td>89.0</td>\n",
              "      <td>54</td>\n",
              "      <td>1.570027</td>\n",
              "      <td>0.932978</td>\n",
              "      <td>0.638983</td>\n",
              "      <td>1358.911235</td>\n",
              "      <td>36.863413</td>\n",
              "      <td>50.316114</td>\n",
              "      <td>39.770747</td>\n",
              "      <td>0.417528</td>\n",
              "      <td>0.858198</td>\n",
              "      <td>1.353607</td>\n",
              "      <td>0.732636</td>\n",
              "      <td>0.000785</td>\n",
              "      <td>0.028021</td>\n",
              "      <td>0.029238</td>\n",
              "      <td>0.026921</td>\n",
              "      <td>0.026855</td>\n",
              "      <td>0.248064</td>\n",
              "      <td>0.085061</td>\n",
              "      <td>0.958348</td>\n",
              "      <td>Benign</td>\n",
              "    </tr>\n",
              "    <tr>\n",
              "      <th>3</th>\n",
              "      <td>192.168.20.205</td>\n",
              "      <td>9.9.9.11</td>\n",
              "      <td>50224</td>\n",
              "      <td>443</td>\n",
              "      <td>30-03-2020 19:23</td>\n",
              "      <td>127.502031</td>\n",
              "      <td>952325</td>\n",
              "      <td>7469.096708</td>\n",
              "      <td>1334141</td>\n",
              "      <td>10463.684300</td>\n",
              "      <td>21708.416130</td>\n",
              "      <td>147.337762</td>\n",
              "      <td>178.769820</td>\n",
              "      <td>165.0</td>\n",
              "      <td>165</td>\n",
              "      <td>0.280373</td>\n",
              "      <td>0.093458</td>\n",
              "      <td>0.824176</td>\n",
              "      <td>1036.272948</td>\n",
              "      <td>32.191194</td>\n",
              "      <td>53.237060</td>\n",
              "      <td>50.896862</td>\n",
              "      <td>0.000000</td>\n",
              "      <td>0.218091</td>\n",
              "      <td>1.653777</td>\n",
              "      <td>0.604676</td>\n",
              "      <td>0.001299</td>\n",
              "      <td>0.036046</td>\n",
              "      <td>0.012407</td>\n",
              "      <td>0.007977</td>\n",
              "      <td>0.000023</td>\n",
              "      <td>0.368722</td>\n",
              "      <td>0.343570</td>\n",
              "      <td>2.905219</td>\n",
              "      <td>Malicious</td>\n",
              "    </tr>\n",
              "    <tr>\n",
              "      <th>4</th>\n",
              "      <td>192.168.20.205</td>\n",
              "      <td>9.9.9.11</td>\n",
              "      <td>50230</td>\n",
              "      <td>443</td>\n",
              "      <td>30-03-2020 19:24</td>\n",
              "      <td>36.109819</td>\n",
              "      <td>17234</td>\n",
              "      <td>477.266308</td>\n",
              "      <td>28476</td>\n",
              "      <td>788.594371</td>\n",
              "      <td>19924.290610</td>\n",
              "      <td>141.153429</td>\n",
              "      <td>157.620690</td>\n",
              "      <td>165.0</td>\n",
              "      <td>68</td>\n",
              "      <td>-0.156836</td>\n",
              "      <td>0.634917</td>\n",
              "      <td>0.895526</td>\n",
              "      <td>27.878373</td>\n",
              "      <td>5.279997</td>\n",
              "      <td>3.037201</td>\n",
              "      <td>2.048706</td>\n",
              "      <td>0.000000</td>\n",
              "      <td>0.561645</td>\n",
              "      <td>0.575228</td>\n",
              "      <td>1.738442</td>\n",
              "      <td>0.014743</td>\n",
              "      <td>0.121423</td>\n",
              "      <td>0.034108</td>\n",
              "      <td>0.015330</td>\n",
              "      <td>0.000341</td>\n",
              "      <td>0.463939</td>\n",
              "      <td>0.278091</td>\n",
              "      <td>3.559992</td>\n",
              "      <td>Malicious</td>\n",
              "    </tr>\n",
              "  </tbody>\n",
              "</table>\n",
              "</div>"
            ],
            "text/plain": [
              "         SourceIP  ...      Label\n",
              "0  192.168.20.191  ...     Benign\n",
              "1  192.168.20.191  ...     Benign\n",
              "2  192.168.20.191  ...     Benign\n",
              "3  192.168.20.205  ...  Malicious\n",
              "4  192.168.20.205  ...  Malicious\n",
              "\n",
              "[5 rows x 35 columns]"
            ]
          },
          "metadata": {},
          "execution_count": 2
        }
      ]
    },
    {
      "cell_type": "code",
      "metadata": {
        "id": "yOgr7eV3_-W6"
      },
      "source": [
        "d=d.dropna(axis=1, how='all')"
      ],
      "execution_count": 3,
      "outputs": []
    },
    {
      "cell_type": "code",
      "metadata": {
        "colab": {
          "base_uri": "https://localhost:8080/",
          "height": 226
        },
        "id": "YpXsDC1cADdt",
        "outputId": "d48a3b03-1a7d-4436-d477-3dc7be98f0d6"
      },
      "source": [
        "#NUMERICAL ENCODING\n",
        "d[\"SourceIP\"] = d[\"SourceIP\"].astype('category')\n",
        "d[\"SourceIP\"] = d[\"SourceIP\"].cat.codes\n",
        "d[\"DestinationIP\"] = d[\"DestinationIP\"].astype('category')\n",
        "d[\"DestinationIP\"] = d[\"DestinationIP\"].cat.codes\n",
        "d[\"TimeStamp\"] = d[\"TimeStamp\"].astype('category')\n",
        "d[\"TimeStamp\"] = d[\"TimeStamp\"].cat.codes\n",
        "d[\"Label\"] = d[\"Label\"].astype('category')\n",
        "d[\"Label\"] = d[\"Label\"].cat.codes\n",
        "d.head(5)"
      ],
      "execution_count": 4,
      "outputs": [
        {
          "output_type": "execute_result",
          "data": {
            "text/html": [
              "<div>\n",
              "<style scoped>\n",
              "    .dataframe tbody tr th:only-of-type {\n",
              "        vertical-align: middle;\n",
              "    }\n",
              "\n",
              "    .dataframe tbody tr th {\n",
              "        vertical-align: top;\n",
              "    }\n",
              "\n",
              "    .dataframe thead th {\n",
              "        text-align: right;\n",
              "    }\n",
              "</style>\n",
              "<table border=\"1\" class=\"dataframe\">\n",
              "  <thead>\n",
              "    <tr style=\"text-align: right;\">\n",
              "      <th></th>\n",
              "      <th>SourceIP</th>\n",
              "      <th>DestinationIP</th>\n",
              "      <th>SourcePort</th>\n",
              "      <th>DestinationPort</th>\n",
              "      <th>TimeStamp</th>\n",
              "      <th>Duration</th>\n",
              "      <th>FlowBytesSent</th>\n",
              "      <th>FlowSentRate</th>\n",
              "      <th>FlowBytesReceived</th>\n",
              "      <th>FlowReceivedRate</th>\n",
              "      <th>PacketLengthVariance</th>\n",
              "      <th>PacketLengthStandardDeviation</th>\n",
              "      <th>PacketLengthMean</th>\n",
              "      <th>PacketLengthMedian</th>\n",
              "      <th>PacketLengthMode</th>\n",
              "      <th>PacketLengthSkewFromMedian</th>\n",
              "      <th>PacketLengthSkewFromMode</th>\n",
              "      <th>PacketLengthCoefficientofVariation</th>\n",
              "      <th>PacketTimeVariance</th>\n",
              "      <th>PacketTimeStandardDeviation</th>\n",
              "      <th>PacketTimeMean</th>\n",
              "      <th>PacketTimeMedian</th>\n",
              "      <th>PacketTimeMode</th>\n",
              "      <th>PacketTimeSkewFromMedian</th>\n",
              "      <th>PacketTimeSkewFromMode</th>\n",
              "      <th>PacketTimeCoefficientofVariation</th>\n",
              "      <th>ResponseTimeTimeVariance</th>\n",
              "      <th>ResponseTimeTimeStandardDeviation</th>\n",
              "      <th>ResponseTimeTimeMean</th>\n",
              "      <th>ResponseTimeTimeMedian</th>\n",
              "      <th>ResponseTimeTimeMode</th>\n",
              "      <th>ResponseTimeTimeSkewFromMedian</th>\n",
              "      <th>ResponseTimeTimeSkewFromMode</th>\n",
              "      <th>ResponseTimeTimeCoefficientofVariation</th>\n",
              "      <th>Label</th>\n",
              "    </tr>\n",
              "  </thead>\n",
              "  <tbody>\n",
              "    <tr>\n",
              "      <th>0</th>\n",
              "      <td>2</td>\n",
              "      <td>1</td>\n",
              "      <td>50749</td>\n",
              "      <td>443</td>\n",
              "      <td>6</td>\n",
              "      <td>95.081550</td>\n",
              "      <td>62311</td>\n",
              "      <td>655.342703</td>\n",
              "      <td>65358</td>\n",
              "      <td>687.388878</td>\n",
              "      <td>7474.676771</td>\n",
              "      <td>86.456213</td>\n",
              "      <td>135.673751</td>\n",
              "      <td>102.0</td>\n",
              "      <td>54</td>\n",
              "      <td>1.168467</td>\n",
              "      <td>0.944683</td>\n",
              "      <td>0.637236</td>\n",
              "      <td>670.585814</td>\n",
              "      <td>25.895672</td>\n",
              "      <td>45.065277</td>\n",
              "      <td>48.811292</td>\n",
              "      <td>1.495060</td>\n",
              "      <td>-0.433974</td>\n",
              "      <td>1.682529</td>\n",
              "      <td>0.574626</td>\n",
              "      <td>0.001053</td>\n",
              "      <td>0.032457</td>\n",
              "      <td>0.027624</td>\n",
              "      <td>0.026854</td>\n",
              "      <td>0.026822</td>\n",
              "      <td>0.071187</td>\n",
              "      <td>0.024715</td>\n",
              "      <td>1.174948</td>\n",
              "      <td>0</td>\n",
              "    </tr>\n",
              "    <tr>\n",
              "      <th>1</th>\n",
              "      <td>2</td>\n",
              "      <td>1</td>\n",
              "      <td>50749</td>\n",
              "      <td>443</td>\n",
              "      <td>7</td>\n",
              "      <td>122.309318</td>\n",
              "      <td>93828</td>\n",
              "      <td>767.136973</td>\n",
              "      <td>101232</td>\n",
              "      <td>827.672018</td>\n",
              "      <td>10458.118600</td>\n",
              "      <td>102.264943</td>\n",
              "      <td>141.245474</td>\n",
              "      <td>114.0</td>\n",
              "      <td>54</td>\n",
              "      <td>0.799261</td>\n",
              "      <td>0.853132</td>\n",
              "      <td>0.724023</td>\n",
              "      <td>708.465878</td>\n",
              "      <td>26.617022</td>\n",
              "      <td>52.287903</td>\n",
              "      <td>48.830314</td>\n",
              "      <td>31.719656</td>\n",
              "      <td>0.389704</td>\n",
              "      <td>0.772748</td>\n",
              "      <td>0.509047</td>\n",
              "      <td>0.001170</td>\n",
              "      <td>0.034200</td>\n",
              "      <td>0.024387</td>\n",
              "      <td>0.021043</td>\n",
              "      <td>0.026981</td>\n",
              "      <td>0.293297</td>\n",
              "      <td>-0.075845</td>\n",
              "      <td>1.402382</td>\n",
              "      <td>0</td>\n",
              "    </tr>\n",
              "    <tr>\n",
              "      <th>2</th>\n",
              "      <td>2</td>\n",
              "      <td>1</td>\n",
              "      <td>50749</td>\n",
              "      <td>443</td>\n",
              "      <td>8</td>\n",
              "      <td>120.958413</td>\n",
              "      <td>38784</td>\n",
              "      <td>320.639127</td>\n",
              "      <td>38236</td>\n",
              "      <td>316.108645</td>\n",
              "      <td>7300.293933</td>\n",
              "      <td>85.441758</td>\n",
              "      <td>133.715278</td>\n",
              "      <td>89.0</td>\n",
              "      <td>54</td>\n",
              "      <td>1.570027</td>\n",
              "      <td>0.932978</td>\n",
              "      <td>0.638983</td>\n",
              "      <td>1358.911235</td>\n",
              "      <td>36.863413</td>\n",
              "      <td>50.316114</td>\n",
              "      <td>39.770747</td>\n",
              "      <td>0.417528</td>\n",
              "      <td>0.858198</td>\n",
              "      <td>1.353607</td>\n",
              "      <td>0.732636</td>\n",
              "      <td>0.000785</td>\n",
              "      <td>0.028021</td>\n",
              "      <td>0.029238</td>\n",
              "      <td>0.026921</td>\n",
              "      <td>0.026855</td>\n",
              "      <td>0.248064</td>\n",
              "      <td>0.085061</td>\n",
              "      <td>0.958348</td>\n",
              "      <td>0</td>\n",
              "    </tr>\n",
              "    <tr>\n",
              "      <th>3</th>\n",
              "      <td>3</td>\n",
              "      <td>5</td>\n",
              "      <td>50224</td>\n",
              "      <td>443</td>\n",
              "      <td>29</td>\n",
              "      <td>127.502031</td>\n",
              "      <td>952325</td>\n",
              "      <td>7469.096708</td>\n",
              "      <td>1334141</td>\n",
              "      <td>10463.684300</td>\n",
              "      <td>21708.416130</td>\n",
              "      <td>147.337762</td>\n",
              "      <td>178.769820</td>\n",
              "      <td>165.0</td>\n",
              "      <td>165</td>\n",
              "      <td>0.280373</td>\n",
              "      <td>0.093458</td>\n",
              "      <td>0.824176</td>\n",
              "      <td>1036.272948</td>\n",
              "      <td>32.191194</td>\n",
              "      <td>53.237060</td>\n",
              "      <td>50.896862</td>\n",
              "      <td>0.000000</td>\n",
              "      <td>0.218091</td>\n",
              "      <td>1.653777</td>\n",
              "      <td>0.604676</td>\n",
              "      <td>0.001299</td>\n",
              "      <td>0.036046</td>\n",
              "      <td>0.012407</td>\n",
              "      <td>0.007977</td>\n",
              "      <td>0.000023</td>\n",
              "      <td>0.368722</td>\n",
              "      <td>0.343570</td>\n",
              "      <td>2.905219</td>\n",
              "      <td>1</td>\n",
              "    </tr>\n",
              "    <tr>\n",
              "      <th>4</th>\n",
              "      <td>3</td>\n",
              "      <td>5</td>\n",
              "      <td>50230</td>\n",
              "      <td>443</td>\n",
              "      <td>30</td>\n",
              "      <td>36.109819</td>\n",
              "      <td>17234</td>\n",
              "      <td>477.266308</td>\n",
              "      <td>28476</td>\n",
              "      <td>788.594371</td>\n",
              "      <td>19924.290610</td>\n",
              "      <td>141.153429</td>\n",
              "      <td>157.620690</td>\n",
              "      <td>165.0</td>\n",
              "      <td>68</td>\n",
              "      <td>-0.156836</td>\n",
              "      <td>0.634917</td>\n",
              "      <td>0.895526</td>\n",
              "      <td>27.878373</td>\n",
              "      <td>5.279997</td>\n",
              "      <td>3.037201</td>\n",
              "      <td>2.048706</td>\n",
              "      <td>0.000000</td>\n",
              "      <td>0.561645</td>\n",
              "      <td>0.575228</td>\n",
              "      <td>1.738442</td>\n",
              "      <td>0.014743</td>\n",
              "      <td>0.121423</td>\n",
              "      <td>0.034108</td>\n",
              "      <td>0.015330</td>\n",
              "      <td>0.000341</td>\n",
              "      <td>0.463939</td>\n",
              "      <td>0.278091</td>\n",
              "      <td>3.559992</td>\n",
              "      <td>1</td>\n",
              "    </tr>\n",
              "  </tbody>\n",
              "</table>\n",
              "</div>"
            ],
            "text/plain": [
              "   SourceIP  DestinationIP  ...  ResponseTimeTimeCoefficientofVariation  Label\n",
              "0         2              1  ...                                1.174948      0\n",
              "1         2              1  ...                                1.402382      0\n",
              "2         2              1  ...                                0.958348      0\n",
              "3         3              5  ...                                2.905219      1\n",
              "4         3              5  ...                                3.559992      1\n",
              "\n",
              "[5 rows x 35 columns]"
            ]
          },
          "metadata": {},
          "execution_count": 4
        }
      ]
    },
    {
      "cell_type": "code",
      "metadata": {
        "colab": {
          "base_uri": "https://localhost:8080/"
        },
        "id": "QSH5ZkyPAdlc",
        "outputId": "ff1316b3-142e-4b23-8190-39e785641c49"
      },
      "source": [
        "#SPLITTING DATASET INTO INDEPENDENT AND DEPENDENT VARIABLES\n",
        "np.set_printoptions(suppress=True)\n",
        "X=d.iloc[:,:-1].values\n",
        "Y=d.iloc[:,-1].values\n",
        "\n",
        "#SPLITTING DATASET INTO TRAINING AND TESTING DATA\n",
        "from sklearn.model_selection import train_test_split\n",
        "from sklearn.metrics import confusion_matrix\n",
        "X_train, X_test, y_train, y_test =train_test_split(X,Y,test_size=0.3)\n",
        "X_test[0]"
      ],
      "execution_count": 5,
      "outputs": [
        {
          "output_type": "execute_result",
          "data": {
            "text/plain": [
              "array([     3.        ,      5.        ,  50220.        ,    443.        ,\n",
              "           28.        ,     33.943987  ,   1874.        ,     55.20859998,\n",
              "         4963.        ,    146.211463  , 123398.5381    ,    351.2812806 ,\n",
              "          213.65625   ,     76.        ,     68.        ,      1.17560705,\n",
              "            0.41464279,      1.64414231,    178.1050495 ,     13.34560038,\n",
              "            7.82596894,      0.068792  ,      0.        ,      1.7437605 ,\n",
              "            0.58640816,      1.70529688,      0.00007683,      0.00876508,\n",
              "            0.0102344 ,      0.015168  ,      0.000021  ,     -1.68860896,\n",
              "            1.16523693,      0.85643363])"
            ]
          },
          "metadata": {},
          "execution_count": 5
        }
      ]
    },
    {
      "cell_type": "code",
      "metadata": {
        "id": "-t7ckXvQAh7F"
      },
      "source": [
        "d = d.fillna(d.mean())"
      ],
      "execution_count": 6,
      "outputs": []
    },
    {
      "cell_type": "code",
      "metadata": {
        "id": "5PN4XXMOZsFt"
      },
      "source": [
        "ACCURACY_SCORE={}"
      ],
      "execution_count": 7,
      "outputs": []
    },
    {
      "cell_type": "code",
      "metadata": {
        "colab": {
          "base_uri": "https://localhost:8080/"
        },
        "id": "_9HX2zTeZxFh",
        "outputId": "beaac673-a0c2-4e94-c0d5-a03ef61eb348"
      },
      "source": [
        "#Information gain \n",
        "from sklearn.tree import DecisionTreeClassifier\n",
        "clf_gini=DecisionTreeClassifier(criterion=\"entropy\")\n",
        "y_pred_IG=clf_gini.fit(X_train,y_train).predict(X_test)\n",
        "print(y_pred_IG)"
      ],
      "execution_count": 8,
      "outputs": [
        {
          "output_type": "stream",
          "name": "stdout",
          "text": [
            "[1 1 0 1 0 1 0 0 0 1 0 1 0 0 0]\n"
          ]
        }
      ]
    },
    {
      "cell_type": "code",
      "metadata": {
        "colab": {
          "base_uri": "https://localhost:8080/"
        },
        "id": "EGgk_w6mZzuj",
        "outputId": "96571175-e3cf-40ea-9cb9-5194ef28f2aa"
      },
      "source": [
        "from sklearn.metrics import confusion_matrix\n",
        "from sklearn.metrics import accuracy_score\n",
        "from sklearn.metrics import classification_report\n",
        "print(confusion_matrix(y_test,y_pred_IG))\n",
        "print(accuracy_score(y_test,y_pred_IG)*100)\n",
        "print(classification_report(y_test,y_pred_IG))"
      ],
      "execution_count": 9,
      "outputs": [
        {
          "output_type": "stream",
          "name": "stdout",
          "text": [
            "[[8 0]\n",
            " [1 6]]\n",
            "93.33333333333333\n",
            "              precision    recall  f1-score   support\n",
            "\n",
            "           0       0.89      1.00      0.94         8\n",
            "           1       1.00      0.86      0.92         7\n",
            "\n",
            "    accuracy                           0.93        15\n",
            "   macro avg       0.94      0.93      0.93        15\n",
            "weighted avg       0.94      0.93      0.93        15\n",
            "\n"
          ]
        }
      ]
    },
    {
      "cell_type": "code",
      "metadata": {
        "id": "fnK4lS_IZ2fZ"
      },
      "source": [
        "ACCURACY_SCORE['INFORMATION GAIN']=accuracy_score(y_test,y_pred_IG)*100"
      ],
      "execution_count": 10,
      "outputs": []
    },
    {
      "cell_type": "code",
      "metadata": {
        "colab": {
          "base_uri": "https://localhost:8080/"
        },
        "id": "YQcf6QQjZ5XL",
        "outputId": "1f2e2b53-8ceb-440e-fcf4-12d414b476d9"
      },
      "source": [
        "#GINI INDEX\n",
        "from sklearn.tree import DecisionTreeClassifier\n",
        "clf_gini=DecisionTreeClassifier(criterion=\"gini\")\n",
        "y_pred_GINI=clf_gini.fit(X_train,y_train).predict(X_test)\n",
        "print(y_pred_GINI)"
      ],
      "execution_count": 11,
      "outputs": [
        {
          "output_type": "stream",
          "name": "stdout",
          "text": [
            "[1 1 0 1 0 1 0 0 1 1 0 1 0 0 0]\n"
          ]
        }
      ]
    },
    {
      "cell_type": "code",
      "metadata": {
        "colab": {
          "base_uri": "https://localhost:8080/"
        },
        "id": "mnA6B8TgZ7hq",
        "outputId": "e95859d4-2622-4c4e-f080-0c4ff33027e3"
      },
      "source": [
        "print(confusion_matrix(y_test,y_pred_GINI))\n",
        "print(accuracy_score(y_test,y_pred_GINI)*100)\n",
        "print(classification_report(y_test,y_pred_GINI))"
      ],
      "execution_count": 12,
      "outputs": [
        {
          "output_type": "stream",
          "name": "stdout",
          "text": [
            "[[7 1]\n",
            " [1 6]]\n",
            "86.66666666666667\n",
            "              precision    recall  f1-score   support\n",
            "\n",
            "           0       0.88      0.88      0.88         8\n",
            "           1       0.86      0.86      0.86         7\n",
            "\n",
            "    accuracy                           0.87        15\n",
            "   macro avg       0.87      0.87      0.87        15\n",
            "weighted avg       0.87      0.87      0.87        15\n",
            "\n"
          ]
        }
      ]
    },
    {
      "cell_type": "code",
      "metadata": {
        "colab": {
          "base_uri": "https://localhost:8080/",
          "height": 335
        },
        "id": "8ISeEWDYZ-HS",
        "outputId": "914f3f21-bda2-41bd-9546-678ae38a9735"
      },
      "source": [
        "from sklearn import tree\n",
        "tr=tree.DecisionTreeClassifier()\n",
        "tr.fit(X,Y)\n",
        "tree.plot_tree(tr)"
      ],
      "execution_count": 13,
      "outputs": [
        {
          "output_type": "execute_result",
          "data": {
            "text/plain": [
              "[Text(200.88000000000002, 181.2, 'X[1] <= 2.5\\ngini = 0.5\\nsamples = 50\\nvalue = [25, 25]'),\n",
              " Text(133.92000000000002, 108.72, 'X[30] <= 0.0\\ngini = 0.074\\nsamples = 26\\nvalue = [25, 1]'),\n",
              " Text(66.96000000000001, 36.23999999999998, 'gini = 0.0\\nsamples = 1\\nvalue = [0, 1]'),\n",
              " Text(200.88000000000002, 36.23999999999998, 'gini = 0.0\\nsamples = 25\\nvalue = [25, 0]'),\n",
              " Text(267.84000000000003, 108.72, 'gini = 0.0\\nsamples = 24\\nvalue = [0, 24]')]"
            ]
          },
          "metadata": {},
          "execution_count": 13
        },
        {
          "output_type": "display_data",
          "data": {
            "image/png": "[encoded data removed]",
            "text/plain": [
              "<Figure size 432x288 with 1 Axes>"
            ]
          },
          "metadata": {
            "needs_background": "light"
          }
        }
      ]
    },
    {
      "cell_type": "code",
      "metadata": {
        "id": "iR_q4v19aBQF"
      },
      "source": [
        "ACCURACY_SCORE['GINI INDEX']=accuracy_score(y_test,y_pred_GINI)*100"
      ],
      "execution_count": 14,
      "outputs": []
    },
    {
      "cell_type": "code",
      "metadata": {
        "colab": {
          "base_uri": "https://localhost:8080/"
        },
        "id": "ObDQkUQLAkqe",
        "outputId": "74784b2d-e503-46fe-ce7b-aadee9676813"
      },
      "source": [
        "#RANDOM FOREST CLASSIFIER\n",
        "from sklearn.ensemble import RandomForestClassifier\n",
        "clf=RandomForestClassifier(n_estimators=2)\n",
        "clf.fit(X_train,y_train)\n",
        "y_pred_RF=clf.predict(X_test)\n",
        "print(y_pred_RF)"
      ],
      "execution_count": 15,
      "outputs": [
        {
          "output_type": "stream",
          "name": "stdout",
          "text": [
            "[1 1 0 1 0 1 0 0 0 1 1 1 0 0 0]\n"
          ]
        }
      ]
    },
    {
      "cell_type": "code",
      "metadata": {
        "colab": {
          "base_uri": "https://localhost:8080/"
        },
        "id": "YVAv7a5PAt7o",
        "outputId": "bcf5f122-844e-4276-b3f3-591e2b060dfc"
      },
      "source": [
        "y_pred_cat=[]\n",
        "for x in y_pred_RF:\n",
        "  if x==0:\n",
        "    y_pred_cat.append(\"Benign\")\n",
        "  else :\n",
        "    y_pred_cat.append(\"Malicious\")\n",
        "y_pred_cat"
      ],
      "execution_count": 16,
      "outputs": [
        {
          "output_type": "execute_result",
          "data": {
            "text/plain": [
              "['Malicious',\n",
              " 'Malicious',\n",
              " 'Benign',\n",
              " 'Malicious',\n",
              " 'Benign',\n",
              " 'Malicious',\n",
              " 'Benign',\n",
              " 'Benign',\n",
              " 'Benign',\n",
              " 'Malicious',\n",
              " 'Malicious',\n",
              " 'Malicious',\n",
              " 'Benign',\n",
              " 'Benign',\n",
              " 'Benign']"
            ]
          },
          "metadata": {},
          "execution_count": 16
        }
      ]
    },
    {
      "cell_type": "code",
      "metadata": {
        "colab": {
          "base_uri": "https://localhost:8080/"
        },
        "id": "q9jr8nWjAnYA",
        "outputId": "771e8273-16db-4864-bd4a-4e0f81c81459"
      },
      "source": [
        "print(confusion_matrix(y_test,y_pred_RF))\n",
        "print(accuracy_score(y_test,y_pred_RF)*100)\n",
        "print(classification_report(y_test,y_pred_RF))"
      ],
      "execution_count": 17,
      "outputs": [
        {
          "output_type": "stream",
          "name": "stdout",
          "text": [
            "[[8 0]\n",
            " [0 7]]\n",
            "100.0\n",
            "              precision    recall  f1-score   support\n",
            "\n",
            "           0       1.00      1.00      1.00         8\n",
            "           1       1.00      1.00      1.00         7\n",
            "\n",
            "    accuracy                           1.00        15\n",
            "   macro avg       1.00      1.00      1.00        15\n",
            "weighted avg       1.00      1.00      1.00        15\n",
            "\n"
          ]
        }
      ]
    },
    {
      "cell_type": "code",
      "metadata": {
        "id": "XuJFosFtHdvH"
      },
      "source": [
        "ACCURACY_SCORE['Random Forest']=accuracy_score(y_test,y_pred_RF)*100"
      ],
      "execution_count": 18,
      "outputs": []
    },
    {
      "cell_type": "code",
      "metadata": {
        "colab": {
          "base_uri": "https://localhost:8080/"
        },
        "id": "0xYy1r2TD_7q",
        "outputId": "8b93cfb4-7a08-4a8b-db50-1da5defc43ee"
      },
      "source": [
        "#NAIVE BAYES\n",
        "from sklearn.naive_bayes import GaussianNB\n",
        "gnb=GaussianNB()\n",
        "y_pred_NB=gnb.fit(X_train,y_train).predict(X_test)\n",
        "print(y_pred_NB)"
      ],
      "execution_count": 19,
      "outputs": [
        {
          "output_type": "stream",
          "name": "stdout",
          "text": [
            "[1 1 0 1 0 1 0 0 0 1 1 0 0 0 0]\n"
          ]
        }
      ]
    },
    {
      "cell_type": "code",
      "metadata": {
        "colab": {
          "base_uri": "https://localhost:8080/"
        },
        "id": "b16aymhhEA8R",
        "outputId": "f08987d9-99f0-4f2d-c260-50f06df05322"
      },
      "source": [
        "print(confusion_matrix(y_test,y_pred_NB))\n",
        "print(accuracy_score(y_test,y_pred_NB)*100)\n",
        "print(classification_report(y_test,y_pred_NB))"
      ],
      "execution_count": 20,
      "outputs": [
        {
          "output_type": "stream",
          "name": "stdout",
          "text": [
            "[[8 0]\n",
            " [1 6]]\n",
            "93.33333333333333\n",
            "              precision    recall  f1-score   support\n",
            "\n",
            "           0       0.89      1.00      0.94         8\n",
            "           1       1.00      0.86      0.92         7\n",
            "\n",
            "    accuracy                           0.93        15\n",
            "   macro avg       0.94      0.93      0.93        15\n",
            "weighted avg       0.94      0.93      0.93        15\n",
            "\n"
          ]
        }
      ]
    },
    {
      "cell_type": "code",
      "metadata": {
        "id": "05XM_YJ0Ho3p"
      },
      "source": [
        "ACCURACY_SCORE['Naive bayes']=accuracy_score(y_test,y_pred_NB)*100"
      ],
      "execution_count": 21,
      "outputs": []
    },
    {
      "cell_type": "code",
      "metadata": {
        "colab": {
          "base_uri": "https://localhost:8080/"
        },
        "id": "4RinHhiDHt86",
        "outputId": "048a51b6-915b-4b87-d247-897431fa0416"
      },
      "source": [
        "#KNN\n",
        "from sklearn.neighbors import KNeighborsClassifier\n",
        "knn =KNeighborsClassifier(n_neighbors=3)\n",
        "y_pred_KNN=knn.fit(X_train,y_train).predict(X_test)\n",
        "print(y_pred_KNN)"
      ],
      "execution_count": 22,
      "outputs": [
        {
          "output_type": "stream",
          "name": "stdout",
          "text": [
            "[1 0 0 1 0 1 0 0 1 1 0 1 0 0 0]\n"
          ]
        }
      ]
    },
    {
      "cell_type": "code",
      "metadata": {
        "colab": {
          "base_uri": "https://localhost:8080/"
        },
        "id": "gi1jl5jYHw8W",
        "outputId": "a74d918c-96f8-42b4-ed10-624709b64e0f"
      },
      "source": [
        "print(confusion_matrix(y_test,y_pred_KNN))\n",
        "print(accuracy_score(y_test,y_pred_KNN)*100)\n",
        "print(classification_report(y_test,y_pred_KNN))"
      ],
      "execution_count": 23,
      "outputs": [
        {
          "output_type": "stream",
          "name": "stdout",
          "text": [
            "[[7 1]\n",
            " [2 5]]\n",
            "80.0\n",
            "              precision    recall  f1-score   support\n",
            "\n",
            "           0       0.78      0.88      0.82         8\n",
            "           1       0.83      0.71      0.77         7\n",
            "\n",
            "    accuracy                           0.80        15\n",
            "   macro avg       0.81      0.79      0.80        15\n",
            "weighted avg       0.80      0.80      0.80        15\n",
            "\n"
          ]
        }
      ]
    },
    {
      "cell_type": "code",
      "metadata": {
        "id": "4MNNdzBoH02w"
      },
      "source": [
        "ACCURACY_SCORE['KNN']=accuracy_score(y_test,y_pred_KNN)*100"
      ],
      "execution_count": 24,
      "outputs": []
    },
    {
      "cell_type": "code",
      "metadata": {
        "colab": {
          "base_uri": "https://localhost:8080/"
        },
        "id": "AKa_twxdaiZf",
        "outputId": "2f8e3fa2-ce4e-47ea-fd5e-4d92029c3464"
      },
      "source": [
        "#GRADIENT BOOST\n",
        "from sklearn.ensemble import GradientBoostingClassifier\n",
        "lr_rate= 0.5\n",
        "gb_clf = GradientBoostingClassifier(n_estimators=20, learning_rate=lr_rate, random_state=0)\n",
        "gb_clf.fit(X_train, y_train)\n",
        "y_pred_GB=gb_clf.predict(X_test)\n",
        "print(y_pred_GB)"
      ],
      "execution_count": 25,
      "outputs": [
        {
          "output_type": "stream",
          "name": "stdout",
          "text": [
            "[1 1 0 1 0 1 0 0 0 1 0 1 0 0 0]\n"
          ]
        }
      ]
    },
    {
      "cell_type": "code",
      "metadata": {
        "colab": {
          "base_uri": "https://localhost:8080/"
        },
        "id": "CmzfRwIhak58",
        "outputId": "f0adf039-37bc-452e-efed-8f6b985f8108"
      },
      "source": [
        "print(confusion_matrix(y_test,y_pred_GB))\n",
        "print(accuracy_score(y_test,y_pred_GB)*100)\n",
        "print(classification_report(y_test,y_pred_GB))"
      ],
      "execution_count": 26,
      "outputs": [
        {
          "output_type": "stream",
          "name": "stdout",
          "text": [
            "[[8 0]\n",
            " [1 6]]\n",
            "93.33333333333333\n",
            "              precision    recall  f1-score   support\n",
            "\n",
            "           0       0.89      1.00      0.94         8\n",
            "           1       1.00      0.86      0.92         7\n",
            "\n",
            "    accuracy                           0.93        15\n",
            "   macro avg       0.94      0.93      0.93        15\n",
            "weighted avg       0.94      0.93      0.93        15\n",
            "\n"
          ]
        }
      ]
    },
    {
      "cell_type": "code",
      "metadata": {
        "colab": {
          "base_uri": "https://localhost:8080/"
        },
        "id": "uf_Qz9kPaoX_",
        "outputId": "434c328e-b846-46ba-89ca-fe7f5d76e664"
      },
      "source": [
        "ACCURACY_SCORE['GRADIENT BOOST']=accuracy_score(y_test,y_pred_GB)*100\n",
        "print(ACCURACY_SCORE)"
      ],
      "execution_count": 27,
      "outputs": [
        {
          "output_type": "stream",
          "name": "stdout",
          "text": [
            "{'INFORMATION GAIN': 93.33333333333333, 'GINI INDEX': 86.66666666666667, 'Random Forest': 100.0, 'Naive bayes': 93.33333333333333, 'KNN': 80.0, 'GRADIENT BOOST': 93.33333333333333}\n"
          ]
        }
      ]
    }
  ]
}